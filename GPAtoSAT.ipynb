{
 "cells": [
  {
   "cell_type": "code",
   "execution_count": 5,
   "metadata": {},
   "outputs": [
    {
     "name": "stdout",
     "output_type": "stream",
     "text": [
      "     SAT Score  GPA\n",
      "0         1600  4.0\n",
      "1         1593  4.0\n",
      "2         1587  4.0\n",
      "3         1580  4.0\n",
      "4         1573  4.0\n",
      "..         ...  ...\n",
      "176        427  0.0\n",
      "177        420  0.0\n",
      "178        413  0.0\n",
      "179        407  0.0\n",
      "180        400  0.0\n",
      "\n",
      "[181 rows x 2 columns]\n",
      "Median sat score is : 1000.0\n",
      "Median GPA is: 3.37\n",
      "The conversion rate of GPA to Sat Score is 381.9854803309134\n",
      "Your sat score is likely 1145.9564409927402\n"
     ]
    },
    {
     "data": {
      "image/png": "[encoded data removed]",
      "text/plain": [
       "<Figure size 432x288 with 1 Axes>"
      ]
     },
     "metadata": {
      "needs_background": "light"
     },
     "output_type": "display_data"
    }
   ],
   "source": [
    "import pandas as pd\n",
    "import matplotlib\n",
    "\n",
    "#extracting data to extract download file from kaggle, extract all, upload the csv file then copy build path\n",
    "satGPA = pd.read_csv('SAT to GPA.csv')\n",
    "\n",
    "#outputs dataset\n",
    "print(satGPA)\n",
    "\n",
    "#extracting sat score and gpa + taking averages\n",
    "x = satGPA['SAT Score'].mean()\n",
    "y = satGPA['GPA'].mean()\n",
    "\n",
    "#simple forecasting model\n",
    "conversion = x/y \n",
    "\n",
    "#output\n",
    "print(\"Median sat score is : \" + str(satGPA['SAT Score'].median()))\n",
    "print(\"Median GPA is: \" + str(satGPA['GPA'].median()))\n",
    "print(\"The conversion rate of GPA to Sat Score is \" + str(conversion))\n",
    "\n",
    "#scatter plot of sat score and gpa\n",
    "satGPA.plot(kind = 'scatter', x = 'SAT Score', y = 'GPA', title = \"SAT to GPA\")\n",
    "#satGPA.plot(kind = 'scatter', x = 'GPA', y = 'SAT Score', title = \"SAT to GPA\")\n",
    "\n",
    "\n",
    "#example calculation with conversion model\n",
    "yourGPA = input(\"What is your gpa?\")\n",
    "satScore = float(yourGPA) * float(conversion)\n",
    "print(\"Your sat score is likely \" + str(satScore))\n"
   ]
  },
  {
   "cell_type": "markdown",
   "metadata": {},
   "source": []
  },
  {
   "cell_type": "code",
   "execution_count": 13,
   "metadata": {},
   "outputs": [
    {
     "name": "stdout",
     "output_type": "stream",
     "text": [
      "0      1600\n",
      "1      1593\n",
      "2      1587\n",
      "3      1580\n",
      "4      1573\n",
      "       ... \n",
      "176     427\n",
      "177     420\n",
      "178     413\n",
      "179     407\n",
      "180     400\n",
      "Name: SAT Score, Length: 181, dtype: int64 0      100.0000\n",
      "1       99.5625\n",
      "2       99.1875\n",
      "3       98.7500\n",
      "4       98.3125\n",
      "         ...   \n",
      "176     26.6875\n",
      "177     26.2500\n",
      "178     25.8125\n",
      "179     25.4375\n",
      "180     25.0000\n",
      "Name: SAT Score, Length: 181, dtype: float64\n",
      "<class 'pandas.core.frame.DataFrame'>\n"
     ]
    }
   ],
   "source": [
    "print(satGPA['SAT Score'], satGPA['SAT Score']/1600 * 100)\n",
    "print(type(satGPA))"
   ]
  }
 ],
 "metadata": {
  "interpreter": {
   "hash": "3f39ae1ea1cb50d12bf9201e1d0731a52cfba348c7197e95099e1245900e5469"
  },
  "kernelspec": {
   "display_name": "Python 3.10.2 64-bit",
   "language": "python",
   "name": "python3"
  },
  "language_info": {
   "codemirror_mode": {
    "name": "ipython",
    "version": 3
   },
   "file_extension": ".py",
   "mimetype": "text/x-python",
   "name": "python",
   "nbconvert_exporter": "python",
   "pygments_lexer": "ipython3",
   "version": "3.10.2"
  },
  "orig_nbformat": 4
 },
 "nbformat": 4,
 "nbformat_minor": 2
}
